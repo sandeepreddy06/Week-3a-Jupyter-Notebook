{
    "cells": [
        {
            "cell_type": "code",
            "execution_count": null,
            "metadata": {},
            "outputs": [],
            "source": "import numpy as np # library to handle data in a vectorized manner\n\nimport pandas as pd # library for data analsysis\n\nimport json # library to handle JSON files\n\nimport requests # library to handle requests\n\nfrom pandas.io.json import json_normalize # tranform JSON file into a pandas dataframe\n\nimport matplotlib.cm as cm\nimport matplotlib.colors as colors # Matplotlib and associated plotting modules\n\nfrom sklearn.cluster import KMeans # import k-means from clustering stage\n\n!conda install -c conda-forge beautifulsoup4 --yes\nfrom bs4 import BeautifulSoup # website scraping libraries and packages in Python from BeautifulSoup \n\n!conda install -c conda-forge geopy --yes\nfrom geopy.geocoders import Nominatim  # convert an address into latitude and longitude values\n\nprint(\"Libraries imported.\")"
        },
        {
            "cell_type": "code",
            "execution_count": null,
            "metadata": {},
            "outputs": [],
            "source": "import folium # map rendering library\n\nfrom pandas.io.json import json_normalize # tranform JSON file into a pandas dataframe"
        },
        {
            "cell_type": "code",
            "execution_count": null,
            "metadata": {},
            "outputs": [],
            "source": "# GET request\ndata = requests.get('https://en.wikipedia.org/wiki/List_of_postal_codes_of_Canada:_M').text"
        },
        {
            "cell_type": "code",
            "execution_count": null,
            "metadata": {},
            "outputs": [],
            "source": "soup = BeautifulSoup(data, 'html.parser')"
        },
        {
            "cell_type": "code",
            "execution_count": null,
            "metadata": {},
            "outputs": [],
            "source": "postalCodeList = []\nboroughList = []\nneighborhoodList = []"
        },
        {
            "cell_type": "code",
            "execution_count": null,
            "metadata": {},
            "outputs": [],
            "source": "soup.find('table').find_all('tr')\n\n# find all the rows of the table\nsoup.find('table').find_all('tr')\n\n# for each row of the table, find all the table data\nfor row in soup.find('table').find_all('tr'):\n    cells = row.find_all('td')"
        },
        {
            "cell_type": "code",
            "execution_count": null,
            "metadata": {},
            "outputs": [],
            "source": "for row in soup.find('table').find_all('tr'):\n    cells = row.find_all('td')\n    if(len(cells) > 0):\n        postalCodeList.append(cells[0].text)\n        boroughList.append(cells[1].text)\n        neighborhoodList.append(cells[2].text.rstrip('\\n'))"
        },
        {
            "cell_type": "code",
            "execution_count": null,
            "metadata": {},
            "outputs": [],
            "source": "\n\ntoronto_df = pd.DataFrame({\"PostalCode\": postalCodeList,\n                           \"Borough\": boroughList,\n                           \"Neighborhood\": neighborhoodList})\n\ntoronto_df.head()\n\n"
        },
        {
            "cell_type": "code",
            "execution_count": null,
            "metadata": {},
            "outputs": [],
            "source": "\n\ntoronto_df_drop = toronto_df[toronto_df.Borough != \"Not assigned\"].reset_index(drop=True)\ntoronto_df_drop.head()\n\n"
        },
        {
            "cell_type": "code",
            "execution_count": null,
            "metadata": {},
            "outputs": [],
            "source": "toronto_df_grouped = toronto_df_drop.groupby([\"PostalCode\", \"Borough\"], as_index=False).agg(lambda x: \", \".join(x))\ntoronto_df_grouped.head()"
        },
        {
            "cell_type": "code",
            "execution_count": null,
            "metadata": {},
            "outputs": [],
            "source": "for index, row in toronto_df_grouped.iterrows():\n    if row[\"Neighborhood\"] == \"Not assigned\":\n        row[\"Neighborhood\"] = row[\"Borough\"]\n        \ntoronto_df_grouped.head()"
        },
        {
            "cell_type": "code",
            "execution_count": null,
            "metadata": {},
            "outputs": [],
            "source": "column_names = [\"PostalCode\", \"Borough\", \"Neighborhood\"]\ntest_df = pd.DataFrame(columns=column_names)\n\ntest_list = [\"M5G\", \"M2H\", \"M4B\", \"M1J\", \"M4G\", \"M4M\", \"M1R\", \"M9V\", \"M9L\", \"M5V\", \"M1B\", \"M5A\"]\n\nfor postcode in test_list:\n    test_df = test_df.append(toronto_df_grouped[toronto_df_grouped[\"PostalCode\"]==postcode], ignore_index=True)\n    \ntest_df"
        },
        {
            "cell_type": "code",
            "execution_count": null,
            "metadata": {},
            "outputs": [],
            "source": ""
        },
        {
            "cell_type": "code",
            "execution_count": null,
            "metadata": {},
            "outputs": [],
            "source": ""
        },
        {
            "cell_type": "code",
            "execution_count": null,
            "metadata": {},
            "outputs": [],
            "source": ""
        },
        {
            "cell_type": "code",
            "execution_count": null,
            "metadata": {},
            "outputs": [],
            "source": ""
        }
    ],
    "metadata": {
        "kernelspec": {
            "display_name": "Python 3.6",
            "language": "python",
            "name": "python3"
        },
        "language_info": {
            "codemirror_mode": {
                "name": "ipython",
                "version": 3
            },
            "file_extension": ".py",
            "mimetype": "text/x-python",
            "name": "python",
            "nbconvert_exporter": "python",
            "pygments_lexer": "ipython3",
            "version": "3.6.9"
        }
    },
    "nbformat": 4,
    "nbformat_minor": 1
}